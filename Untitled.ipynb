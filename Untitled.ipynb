{
 "cells": [
  {
   "cell_type": "code",
   "execution_count": 5,
   "metadata": {},
   "outputs": [],
   "source": [
    "import io\n",
    "import os\n",
    "from PIL import Image\n",
    "import numpy as np\n",
    "import matplotlib.pyplot as plt\n",
    "from scipy import fftpack\n",
    "from scipy import ndimage\n",
    "\n",
    "\n",
    "import imageio\n",
    "import matplotlib.image as mpimage\n",
    "import cv2\n",
    "import glob\n",
    "import h5py\n",
    "from sklearn.preprocessing import LabelEncoder\n",
    "from sklearn.preprocessing import MinMaxScaler\n",
    "os.environ['KERAS_BACKEND'] = 'theano'\n",
    "from six.moves import range\n",
    "import keras\n",
    "from keras.models import Sequential\n",
    "from keras.layers import Dense, Activation, Flatten,Convolution2D, MaxPooling2D, Dropout\n",
    "from keras.optimizers import SGD\n",
    "from keras.utils.np_utils import to_categorical\n",
    "from keras.callbacks import EarlyStopping\n",
    "from keras.layers import Convolution2D as Conv2D\n",
    "from keras.layers.advanced_activations import LeakyReLU\n",
    "import matplotlib.pyplot as plt\n",
    "from sklearn.model_selection import train_test_split, cross_val_score, GridSearchCV\n",
    "import datetime as dt\n"
   ]
  },
  {
   "cell_type": "code",
   "execution_count": 6,
   "metadata": {},
   "outputs": [],
   "source": [
    "train_path=\"/home/csed/ELC_activity/train\"\n",
    "test_path=\"/home/csed/ELC_activity/test\""
   ]
  },
  {
   "cell_type": "code",
   "execution_count": 3,
   "metadata": {},
   "outputs": [
    {
     "name": "stdout",
     "output_type": "stream",
     "text": [
      "['ada', 'haha', 'idi', 'sasa', 'uda']\n"
     ]
    }
   ],
   "source": [
    "valid_size=.10\n",
    "pixel_depth=255.0\n",
    "train_labels=os.listdir(train_path)\n",
    "test_labels=os.listdir(test_path)\n",
    "train_labels.sort()\n",
    "test_labels.sort()\n",
    "print(train_labels)\n",
    "nb_classes= 5\n",
    "global_features_train=[]\n",
    "labels=[]\n",
    "\n",
    "i,j=0,0\n",
    "k=0\n"
   ]
  },
  {
   "cell_type": "code",
   "execution_count": 7,
   "metadata": {},
   "outputs": [
    {
     "name": "stderr",
     "output_type": "stream",
     "text": [
      "/home/csed/anaconda3/lib/python3.6/site-packages/ipykernel_launcher.py:7: DeprecationWarning: `imread` is deprecated!\n",
      "`imread` is deprecated in SciPy 1.0.0.\n",
      "Use ``matplotlib.pyplot.imread`` instead.\n",
      "  import sys\n"
     ]
    },
    {
     "name": "stdout",
     "output_type": "stream",
     "text": [
      "[status] processed folder: ada\n",
      "[status] processed folder: haha\n",
      "[status] processed folder: idi\n",
      "[status] processed folder: sasa\n",
      "[status] processed folder: uda\n",
      "[status] completed global feature extraction..\n",
      "[status] feature vector size (493, 32, 32)\n",
      "[status] training labels (493,)\n"
     ]
    }
   ],
   "source": [
    "for training_name in train_labels:\n",
    "    path=os.path.join(train_path,training_name,'*')\n",
    "    files=glob.glob(path)\n",
    "    current_label=training_name\n",
    "    k=1\n",
    "    for fl in files:\n",
    "        image=(ndimage.imread(fl).astype(float)-pixel_depth/2)/pixel_depth\n",
    "        global_feature=np.hstack([image])\n",
    "        labels.append(current_label)\n",
    "        global_features_train.append(global_feature)\n",
    "\n",
    "        i+=1\n",
    "        k+1\n",
    "    print(\"[status] processed folder: {}\".format(current_label))\n",
    "    j+=1\n",
    "print(\"[status] completed global feature extraction..\")\n",
    "print(\"[status] feature vector size {}\".format(np.array(global_features_train).shape))\n",
    "print(\"[status] training labels {}\".format(np.array(labels).shape))\n"
   ]
  },
  {
   "cell_type": "code",
   "execution_count": 8,
   "metadata": {},
   "outputs": [
    {
     "name": "stdout",
     "output_type": "stream",
     "text": [
      "[status] training labels encoded...\n"
     ]
    }
   ],
   "source": [
    "#labels = (np.arange(nb_classes) == labels[:,None]).astype(np.float32)\n",
    "targetNames=np.unique(labels)\n",
    "le=LabelEncoder()\n",
    "target=le.fit_transform(labels)\n",
    "print(\"[status] training labels encoded...\")"
   ]
  },
  {
   "cell_type": "code",
   "execution_count": 9,
   "metadata": {},
   "outputs": [],
   "source": [
    "n_samples, nx, ny=np.array(global_features_train).shape\n",
    "d2_global_features=np.array(global_features_train).reshape((n_samples, nx,ny,1))\n",
    "#scaler=MinMaxScaler(feature_range=(0,1))\n",
    "#rescaled_features=scaler.fit_transform(d2_global_features)"
   ]
  },
  {
   "cell_type": "code",
   "execution_count": 10,
   "metadata": {},
   "outputs": [
    {
     "name": "stdout",
     "output_type": "stream",
     "text": [
      "[Status] feature vector normalized...\n",
      "[Status] target label[0 0 0 0 0 0 0 0 0 0 0 0 0 0 0 0 0 0 0 0 0 0 0 0 0 0 0 0 0 0 0 0 0 0 0 0 0\n",
      " 0 0 0 0 0 0 0 0 0 0 0 0 0 0 0 0 0 0 0 0 0 0 0 0 0 0 0 0 0 0 0 0 0 0 0 0 0\n",
      " 0 0 0 0 0 0 0 0 0 0 0 0 0 0 0 0 0 0 0 0 0 0 0 0 0 0 1 1 1 1 1 1 1 1 1 1 1\n",
      " 1 1 1 1 1 1 1 1 1 1 1 1 1 1 1 1 1 1 1 1 1 1 1 1 1 1 1 1 1 1 1 1 1 1 1 1 1\n",
      " 1 1 1 1 1 1 1 1 1 1 1 1 1 1 1 1 1 1 1 1 1 1 1 1 1 1 1 1 1 1 1 1 1 1 1 1 1\n",
      " 1 1 1 1 1 1 1 1 1 1 1 1 1 1 1 2 2 2 2 2 2 2 2 2 2 2 2 2 2 2 2 2 2 2 2 2 2\n",
      " 2 2 2 2 2 2 2 2 2 2 2 2 2 2 2 2 2 2 2 2 2 2 2 2 2 2 2 2 2 2 2 2 2 2 2 2 2\n",
      " 2 2 2 2 2 2 2 2 2 2 2 2 2 2 2 2 2 2 2 2 2 2 2 2 2 2 2 2 2 2 2 2 2 2 2 2 2\n",
      " 2 2 2 2 3 3 3 3 3 3 3 3 3 3 3 3 3 3 3 3 3 3 3 3 3 3 3 3 3 3 3 3 3 3 3 3 3\n",
      " 3 3 3 3 3 3 3 3 3 3 3 3 3 3 3 3 3 3 3 3 3 3 3 3 3 3 3 3 3 3 3 3 3 3 3 3 3\n",
      " 3 3 3 3 3 3 3 3 3 3 3 3 3 3 3 3 3 3 3 3 3 3 3 4 4 4 4 4 4 4 4 4 4 4 4 4 4\n",
      " 4 4 4 4 4 4 4 4 4 4 4 4 4 4 4 4 4 4 4 4 4 4 4 4 4 4 4 4 4 4 4 4 4 4 4 4 4\n",
      " 4 4 4 4 4 4 4 4 4 4 4 4 4 4 4 4 4 4 4 4 4 4 4 4 4 4 4 4 4 4 4 4 4 4 4 4 4\n",
      " 4 4 4 4 4 4 4 4 4 4 4 4]\n",
      "[Status] target label shape (493,)\n"
     ]
    }
   ],
   "source": [
    "print(\"[Status] feature vector normalized...\")\n",
    "\n",
    "print(\"[Status] target label{}\".format(target))\n",
    "print(\"[Status] target label shape {}\".format(target.shape))\n"
   ]
  },
  {
   "cell_type": "code",
   "execution_count": 11,
   "metadata": {},
   "outputs": [
    {
     "data": {
      "text/plain": [
       "<HDF5 dataset \"dataset_1\": shape (493,), type \"<i8\">"
      ]
     },
     "execution_count": 11,
     "metadata": {},
     "output_type": "execute_result"
    }
   ],
   "source": [
    "h5f_data=h5py.File('/home/csed/ELC_activity/train/data.h5','w')\n",
    "h5f_data.create_dataset('dataset_1',data=np.array(d2_global_features))\n",
    "\n",
    "h5f_label=h5py.File('/home/csed/ELC_activity/train/labels.h5','w')\n",
    "h5f_label.create_dataset('dataset_1',data=np.array(target))\n"
   ]
  },
  {
   "cell_type": "code",
   "execution_count": 12,
   "metadata": {},
   "outputs": [
    {
     "name": "stdout",
     "output_type": "stream",
     "text": [
      "[status] processed folder: ada\n",
      "[status] processed folder: haha\n",
      "[status] processed folder: idi\n",
      "[status] processed folder: sasa\n",
      "[status] processed folder: uda\n",
      "[status] completed global feature extraction..\n",
      "[status] feature vector size (103, 32, 32)\n"
     ]
    },
    {
     "name": "stderr",
     "output_type": "stream",
     "text": [
      "/home/csed/anaconda3/lib/python3.6/site-packages/ipykernel_launcher.py:8: DeprecationWarning: `imread` is deprecated!\n",
      "`imread` is deprecated in SciPy 1.0.0.\n",
      "Use ``matplotlib.pyplot.imread`` instead.\n",
      "  \n"
     ]
    }
   ],
   "source": [
    "global_features_test=[]\n",
    "for testing_name in test_labels:\n",
    "    path=os.path.join(test_path,testing_name,'*')\n",
    "    files=glob.glob(path)\n",
    "    current_label=testing_name\n",
    "    k=1\n",
    "    for fl in files:\n",
    "        image=(ndimage.imread(fl).astype(float)-pixel_depth/2)/pixel_depth\n",
    "        global_feature_test=np.hstack([image])\n",
    "        #labels.append(current_label)\n",
    "        global_features_test.append(image)\n",
    "\n",
    "        i+=1\n",
    "        k+1\n",
    "    print(\"[status] processed folder: {}\".format(current_label))\n",
    "    j+=1\n",
    "print(\"[status] completed global feature extraction..\")\n",
    "print(\"[status] feature vector size {}\".format(np.array(global_features_test).shape))\n",
    "#print(\"[status] training labels {}\".format(np.array(labels).shape))"
   ]
  },
  {
   "cell_type": "code",
   "execution_count": 13,
   "metadata": {},
   "outputs": [],
   "source": [
    "n_samples, nx, ny=np.array(global_features_test).shape\n",
    "d2_global_features_test=np.array(global_features_test).reshape((n_samples, nx,ny,1))\n",
    "#scaler=MinMaxScaler(feature_range=(0,1))\n",
    "#rescaled_features_test=scaler.fit_transform(d2_global_features_test)"
   ]
  },
  {
   "cell_type": "code",
   "execution_count": 14,
   "metadata": {},
   "outputs": [
    {
     "name": "stdout",
     "output_type": "stream",
     "text": [
      "[Status] feature vector normalized...\n"
     ]
    }
   ],
   "source": [
    "print(\"[Status] feature vector normalized...\")"
   ]
  },
  {
   "cell_type": "code",
   "execution_count": 15,
   "metadata": {},
   "outputs": [
    {
     "data": {
      "text/plain": [
       "<HDF5 dataset \"dataset_test\": shape (103, 32, 32, 1), type \"<f8\">"
      ]
     },
     "execution_count": 15,
     "metadata": {},
     "output_type": "execute_result"
    }
   ],
   "source": [
    "h5f_data=h5py.File('/home/csed/ELC_activity/output_test/data.h5','w')\n",
    "h5f_data.create_dataset('dataset_test',data=np.array(d2_global_features_test))\n"
   ]
  },
  {
   "cell_type": "code",
   "execution_count": 16,
   "metadata": {},
   "outputs": [],
   "source": [
    "h5f_data.close()\n",
    "h5f_data.close()"
   ]
  },
  {
   "cell_type": "code",
   "execution_count": 18,
   "metadata": {},
   "outputs": [],
   "source": [
    "h5f_data=h5py.File('/home/csed/ELC_activity/train/data.h5','r')\n",
    "h5f_label=h5py.File('/home/csed/ELC_activity/train/labels.h5','r')\n",
    "\n",
    "h5f_data_test=h5py.File('/home/csed/ELC_activity/output_test/data.h5','r')"
   ]
  },
  {
   "cell_type": "code",
   "execution_count": 19,
   "metadata": {},
   "outputs": [
    {
     "name": "stdout",
     "output_type": "stream",
     "text": [
      "[Status] training feature shape: (493, 32, 32, 1)\n",
      "[Status] labels shape: (493,)\n",
      "[Status] test feature shape: (103, 32, 32, 1)\n"
     ]
    }
   ],
   "source": [
    "global_features_string_train= h5f_data['dataset_1']\n",
    "global_labels_string_train=h5f_label['dataset_1']\n",
    "global_features_train=np.array(global_features_string_train)\n",
    "global_labels_train=np.array(global_labels_string_train)\n",
    "\n",
    "#train_dataset=global_features_string_train.reshape((-1, 32, 32, 1)).astype(np.float32)\n",
    "\n",
    "\n",
    "global_features_string_test=h5f_data_test['dataset_test'][:]\n",
    "global_features_test=np.array(global_features_string_test)\n",
    "h5f_data.close()\n",
    "h5f_label.close()\n",
    "h5f_data_test.close()\n",
    "\n",
    "\n",
    "\n",
    "\n",
    "\n",
    "\n",
    "\n",
    "print(\"[Status] training feature shape: {}\".format(global_features_train.shape))\n",
    "\n",
    "print(\"[Status] labels shape: {}\".format(global_labels_train.shape))\n",
    "print(\"[Status] test feature shape: {}\".format(global_features_test.shape))\n",
    "\n",
    "\n"
   ]
  },
  {
   "cell_type": "code",
   "execution_count": 20,
   "metadata": {},
   "outputs": [],
   "source": [
    "valid_size=.10\n",
    "\n",
    "seed=9\n",
    "\n",
    "(trainDataGlobal, validDataGlobal, trainLabelsGlobal, validLabelsGlobal)=train_test_split(np.array(global_features_train),\n",
    "                                                                                       np.array(global_labels_train),\n",
    "                                                                                        test_size=valid_size,\n",
    "                                                                                       random_state=seed)"
   ]
  },
  {
   "cell_type": "code",
   "execution_count": 21,
   "metadata": {},
   "outputs": [
    {
     "name": "stdout",
     "output_type": "stream",
     "text": [
      "[status] splitted train and test data..\n",
      "train data : (443, 32, 32, 1)\n",
      "validation data : (50, 32, 32, 1)\n",
      "train labels : (443,)\n",
      "validation labels : (50,)\n",
      "train labels : (443, 5)\n",
      "train labels : (50, 5)\n"
     ]
    }
   ],
   "source": [
    "print(\"[status] splitted train and test data..\")\n",
    "print(\"train data : {}\" .format(trainDataGlobal.shape))\n",
    "print(\"validation data : {}\" .format(validDataGlobal.shape))\n",
    "print(\"train labels : {}\" .format(trainLabelsGlobal.shape))\n",
    "print(\"validation labels : {}\" .format(validLabelsGlobal.shape))\n",
    "\n",
    "\n",
    "num_category = 5\n",
    "# convert class vectors to binary class matrices\n",
    "y_train = keras.utils.to_categorical(trainLabelsGlobal, num_category)\n",
    "y_test = keras.utils.to_categorical(validLabelsGlobal, num_category)\n",
    "\n",
    "print(\"train labels : {}\" .format(y_train.shape))\n",
    "print(\"train labels : {}\" .format(y_test.shape))"
   ]
  },
  {
   "cell_type": "code",
   "execution_count": 22,
   "metadata": {},
   "outputs": [],
   "source": [
    "model = Sequential()\n",
    "#Layer 1\n",
    "#Conv Layer 1\n",
    "model.add(Conv2D(filters = 6, \n",
    "                 kernel_size = 5, \n",
    "                 strides = 1, \n",
    "                 activation = 'relu', \n",
    "                 input_shape = (32,32,1)))\n",
    "model.add(MaxPooling2D(pool_size = 2, strides = 2))\n",
    "#Layer 2\n",
    "#Conv Layer 2\n",
    "model.add(Conv2D(filters = 16, \n",
    "                 kernel_size = 5,\n",
    "                 strides = 1,\n",
    "                 activation = 'relu',\n",
    "                 input_shape = (14,14,6)))\n",
    "#Pooling Layer 2\n",
    "model.add(MaxPooling2D(pool_size = 2, strides = 2))\n",
    "#Flatten\n",
    "model.add(Flatten())\n",
    "#Layer 3\n",
    "#Fully connected layer 1\n",
    "model.add(Dense(units = 120, activation = 'relu'))\n",
    "#Layer 4\n",
    "#Fully connected layer 2\n",
    "model.add(Dense(units = 84, activation = 'relu'))\n",
    "#Layer 5\n",
    "#Output Layer\n",
    "model.add(Dense(units = 5, activation = 'softmax'))"
   ]
  },
  {
   "cell_type": "code",
   "execution_count": 23,
   "metadata": {},
   "outputs": [],
   "source": [
    "model.compile(optimizer = 'adam', loss = 'categorical_crossentropy', metrics = ['accuracy'])"
   ]
  },
  {
   "cell_type": "code",
   "execution_count": 24,
   "metadata": {},
   "outputs": [
    {
     "name": "stdout",
     "output_type": "stream",
     "text": [
      "Start param searching at 2020-03-14 12:38:47.381652\n",
      "Train on 443 samples, validate on 50 samples\n",
      "Epoch 1/10\n",
      "443/443 [==============================] - 0s 725us/step - loss: 1.5889 - acc: 0.2912 - val_loss: 1.5214 - val_acc: 0.5800\n",
      "Epoch 2/10\n",
      "443/443 [==============================] - 0s 617us/step - loss: 1.4646 - acc: 0.6975 - val_loss: 1.3872 - val_acc: 0.6800\n",
      "Epoch 3/10\n",
      "443/443 [==============================] - 0s 520us/step - loss: 1.3056 - acc: 0.7698 - val_loss: 1.1893 - val_acc: 0.8800\n",
      "Epoch 4/10\n",
      "443/443 [==============================] - 0s 532us/step - loss: 1.0807 - acc: 0.9007 - val_loss: 0.9352 - val_acc: 0.8600\n",
      "Epoch 5/10\n",
      "443/443 [==============================] - 0s 501us/step - loss: 0.8109 - acc: 0.8984 - val_loss: 0.6749 - val_acc: 0.8800\n",
      "Epoch 6/10\n",
      "443/443 [==============================] - 0s 562us/step - loss: 0.5763 - acc: 0.9120 - val_loss: 0.4638 - val_acc: 0.9000\n",
      "Epoch 7/10\n",
      "443/443 [==============================] - 0s 529us/step - loss: 0.3785 - acc: 0.9187 - val_loss: 0.3500 - val_acc: 0.9000\n",
      "Epoch 8/10\n",
      "443/443 [==============================] - 0s 505us/step - loss: 0.2617 - acc: 0.9300 - val_loss: 0.2665 - val_acc: 0.9400\n",
      "Epoch 9/10\n",
      "443/443 [==============================] - 0s 506us/step - loss: 0.1854 - acc: 0.9639 - val_loss: 0.2227 - val_acc: 0.9400\n",
      "Epoch 10/10\n",
      "443/443 [==============================] - 0s 576us/step - loss: 0.1304 - acc: 0.9639 - val_loss: 0.1952 - val_acc: 0.9200\n",
      "Elapsed time, param searching 0:01:04.404589\n"
     ]
    }
   ],
   "source": [
    "start_time = dt.datetime.now()\n",
    "print('Start param searching at {}'.format(str(start_time)))\n",
    "\n",
    "my_train=model.fit(trainDataGlobal ,y_train, batch_size = 128, epochs = 10, validation_data=(validDataGlobal, y_test))\n",
    "\n",
    "elapsed_time= dt.datetime.now() - start_time\n",
    "print('Elapsed time, param searching {}'.format(str(elapsed_time)))"
   ]
  },
  {
   "cell_type": "code",
   "execution_count": 25,
   "metadata": {},
   "outputs": [],
   "source": [
    "test_eval = model.evaluate(validDataGlobal, y_test, verbose=0)\n"
   ]
  },
  {
   "cell_type": "code",
   "execution_count": 26,
   "metadata": {},
   "outputs": [
    {
     "name": "stdout",
     "output_type": "stream",
     "text": [
      "Test loss: 0.1951561439037323\n",
      "Test accuracy: 0.9200000023841858\n"
     ]
    }
   ],
   "source": [
    "print('Test loss:', test_eval[0])\n",
    "print('Test accuracy:', test_eval[1])"
   ]
  },
  {
   "cell_type": "code",
   "execution_count": 27,
   "metadata": {},
   "outputs": [],
   "source": [
    "test=np.array(global_features_test)"
   ]
  },
  {
   "cell_type": "code",
   "execution_count": 31,
   "metadata": {},
   "outputs": [
    {
     "data": {
      "text/plain": [
       "array([[9.90011454e-01, 9.14824795e-06, 9.24060179e-04, 8.83946940e-03,\n",
       "        2.15877153e-04],\n",
       "       [9.88374472e-01, 2.91125743e-05, 6.36249257e-04, 1.08253229e-02,\n",
       "        1.34820220e-04],\n",
       "       [8.63621294e-01, 3.52366842e-05, 3.73119256e-03, 1.31403714e-01,\n",
       "        1.20856857e-03],\n",
       "       [9.95081246e-01, 9.26148823e-06, 1.01278827e-03, 3.57945077e-03,\n",
       "        3.17277998e-04],\n",
       "       [9.84297991e-01, 9.53157087e-06, 3.77451477e-04, 1.46041662e-02,\n",
       "        7.10869383e-04],\n",
       "       [9.83401597e-01, 1.09039021e-04, 2.37081258e-04, 1.17974319e-02,\n",
       "        4.45483299e-03],\n",
       "       [9.83493805e-01, 6.95342751e-05, 3.09242727e-03, 1.13515211e-02,\n",
       "        1.99268549e-03],\n",
       "       [9.83051956e-01, 2.63598540e-05, 2.57748936e-04, 1.54334940e-02,\n",
       "        1.23041903e-03],\n",
       "       [9.39870894e-01, 6.79021878e-06, 2.07730080e-03, 5.55619225e-02,\n",
       "        2.48308177e-03],\n",
       "       [9.73675370e-01, 5.15405327e-06, 5.70805161e-04, 2.56749000e-02,\n",
       "        7.37735463e-05],\n",
       "       [9.87060606e-01, 1.33449903e-05, 1.56685349e-03, 1.07505303e-02,\n",
       "        6.08642062e-04],\n",
       "       [9.87535000e-01, 7.25860737e-05, 1.05173187e-03, 4.36659483e-03,\n",
       "        6.97407359e-03],\n",
       "       [9.87295628e-01, 1.00754427e-04, 2.02739425e-03, 9.86399595e-03,\n",
       "        7.12200417e-04],\n",
       "       [9.85312581e-01, 4.09665481e-05, 4.12921095e-03, 9.40313656e-03,\n",
       "        1.11411954e-03],\n",
       "       [9.85292614e-01, 1.77496568e-05, 9.39084403e-03, 4.53145988e-03,\n",
       "        7.67326856e-04],\n",
       "       [9.91658688e-01, 3.57848221e-05, 1.85611425e-03, 6.19954290e-03,\n",
       "        2.49866571e-04],\n",
       "       [7.11638093e-01, 2.22989183e-05, 2.96724634e-03, 2.85121709e-01,\n",
       "        2.50632060e-04],\n",
       "       [4.28186923e-01, 4.92808613e-05, 1.61862969e-02, 5.54030001e-01,\n",
       "        1.54747732e-03],\n",
       "       [9.79477227e-01, 6.43342573e-05, 1.46227051e-03, 1.72626600e-02,\n",
       "        1.73351588e-03],\n",
       "       [9.41478014e-01, 1.66155369e-05, 3.50122899e-03, 5.45963421e-02,\n",
       "        4.07777581e-04],\n",
       "       [7.38623381e-01, 2.10189464e-05, 2.00346648e-03, 2.57742077e-01,\n",
       "        1.61007314e-03],\n",
       "       [2.33592971e-07, 9.99866545e-01, 8.71735610e-05, 9.22943741e-07,\n",
       "        4.51355554e-05],\n",
       "       [3.36464973e-06, 9.99648631e-01, 1.99679605e-04, 9.69261691e-06,\n",
       "        1.38657677e-04],\n",
       "       [2.45031998e-07, 9.99663532e-01, 2.61487905e-04, 1.29573107e-06,\n",
       "        7.34669593e-05],\n",
       "       [3.60576200e-06, 9.99371409e-01, 4.30400745e-04, 8.28147313e-06,\n",
       "        1.86318473e-04],\n",
       "       [1.32111370e-06, 9.98390973e-01, 8.83548579e-04, 3.48702338e-06,\n",
       "        7.20673066e-04],\n",
       "       [2.43996619e-05, 9.99109566e-01, 6.94744696e-04, 1.43005636e-05,\n",
       "        1.57009388e-04],\n",
       "       [2.00128159e-03, 9.95128512e-01, 1.47621136e-03, 1.10848551e-03,\n",
       "        2.85518967e-04],\n",
       "       [2.25240619e-05, 9.99396861e-01, 3.74374591e-04, 1.96473738e-05,\n",
       "        1.86577672e-04],\n",
       "       [3.25556948e-06, 9.91211534e-01, 7.31968647e-03, 1.11806894e-05,\n",
       "        1.45435089e-03],\n",
       "       [8.20543278e-07, 9.99287665e-01, 5.89238189e-04, 6.21624031e-06,\n",
       "        1.16065290e-04],\n",
       "       [1.16187666e-05, 9.99251068e-01, 3.89306922e-04, 3.65923916e-05,\n",
       "        3.11414944e-04],\n",
       "       [1.88357426e-05, 9.99541223e-01, 3.43605876e-04, 1.77476941e-05,\n",
       "        7.86119344e-05],\n",
       "       [6.14660212e-06, 9.99337137e-01, 4.94905631e-04, 5.54846883e-05,\n",
       "        1.06319341e-04],\n",
       "       [3.76681419e-05, 9.99454796e-01, 3.74166615e-04, 5.04027048e-05,\n",
       "        8.29869969e-05],\n",
       "       [1.81365995e-05, 9.96941566e-01, 2.77421181e-03, 2.22101335e-05,\n",
       "        2.43869785e-04],\n",
       "       [1.48317110e-06, 9.98175800e-01, 1.52815203e-03, 7.23502308e-06,\n",
       "        2.87334115e-04],\n",
       "       [2.92046275e-06, 9.99399543e-01, 4.67803766e-04, 7.57393354e-06,\n",
       "        1.22164376e-04],\n",
       "       [7.63489061e-06, 9.99487698e-01, 4.20103315e-04, 8.44267652e-06,\n",
       "        7.60918483e-05],\n",
       "       [2.39121823e-06, 9.98018205e-01, 1.18392694e-03, 8.10456822e-06,\n",
       "        7.87374272e-04],\n",
       "       [1.59797128e-05, 9.93217468e-01, 4.23100591e-03, 5.37044180e-05,\n",
       "        2.48184544e-03],\n",
       "       [2.03594612e-03, 6.63249302e-05, 9.93945718e-01, 2.78718933e-03,\n",
       "        1.16483949e-03],\n",
       "       [9.04004090e-04, 9.15252240e-05, 9.97206628e-01, 9.83358477e-04,\n",
       "        8.14464234e-04],\n",
       "       [6.60081860e-04, 2.07140503e-04, 9.98552978e-01, 1.69977531e-04,\n",
       "        4.09812899e-04],\n",
       "       [9.23788000e-04, 2.39637622e-04, 9.97127116e-01, 1.13393064e-03,\n",
       "        5.75545884e-04],\n",
       "       [1.06860220e-03, 1.23504069e-04, 9.97910380e-01, 7.51955900e-04,\n",
       "        1.45535290e-04],\n",
       "       [3.84302041e-03, 4.46851831e-04, 9.91887808e-01, 2.25724280e-03,\n",
       "        1.56508677e-03],\n",
       "       [1.54029438e-03, 5.44000301e-04, 9.96710241e-01, 6.33186952e-04,\n",
       "        5.72274090e-04],\n",
       "       [6.57004770e-03, 5.09163216e-02, 9.36753750e-01, 1.89138413e-03,\n",
       "        3.86847672e-03],\n",
       "       [1.22734054e-03, 6.14165911e-04, 9.95137691e-01, 2.13462254e-03,\n",
       "        8.86185793e-04],\n",
       "       [4.33313136e-04, 3.18763050e-05, 9.98661518e-01, 6.80892495e-04,\n",
       "        1.92375359e-04],\n",
       "       [3.79859447e-03, 7.20444194e-04, 9.77137625e-01, 1.82058644e-02,\n",
       "        1.37471769e-04],\n",
       "       [4.94744781e-05, 1.57817776e-05, 9.99869585e-01, 3.74043557e-05,\n",
       "        2.77295439e-05],\n",
       "       [5.16811339e-03, 4.16098279e-04, 9.41873074e-01, 5.21913655e-02,\n",
       "        3.51369526e-04],\n",
       "       [2.03581937e-02, 5.25779265e-04, 9.53565836e-01, 2.52251513e-02,\n",
       "        3.25033965e-04],\n",
       "       [3.77070135e-03, 8.90159281e-04, 9.94440973e-01, 2.67074793e-04,\n",
       "        6.31088333e-04],\n",
       "       [7.80995411e-04, 1.85729878e-04, 9.98061895e-01, 3.07907932e-04,\n",
       "        6.63447659e-04],\n",
       "       [2.36684748e-04, 5.24642783e-05, 9.99224126e-01, 4.34341258e-04,\n",
       "        5.23869348e-05],\n",
       "       [1.27410085e-03, 2.87921284e-04, 9.94864285e-01, 1.76581758e-04,\n",
       "        3.39710503e-03],\n",
       "       [9.12943576e-03, 1.29553648e-02, 9.74912763e-01, 9.73244314e-04,\n",
       "        2.02920171e-03],\n",
       "       [5.21333097e-03, 1.00207841e-03, 9.70452011e-01, 2.28095818e-02,\n",
       "        5.22969640e-04],\n",
       "       [2.58980668e-03, 2.31645216e-04, 9.87034202e-01, 9.80149023e-03,\n",
       "        3.42832500e-04],\n",
       "       [1.08644404e-02, 2.38801226e-06, 3.39585193e-03, 9.85710263e-01,\n",
       "        2.70287619e-05],\n",
       "       [2.08984949e-02, 3.49381958e-06, 3.61288409e-03, 9.75467622e-01,\n",
       "        1.75250316e-05],\n",
       "       [2.59885807e-02, 9.02270956e-04, 2.72224337e-01, 6.85814857e-01,\n",
       "        1.50699895e-02],\n",
       "       [1.92646477e-02, 1.25624810e-03, 4.75954145e-01, 8.16552415e-02,\n",
       "        4.21869695e-01],\n",
       "       [1.75293721e-02, 4.89292779e-06, 8.79193074e-04, 9.81572092e-01,\n",
       "        1.44766400e-05],\n",
       "       [2.41257865e-02, 4.89300909e-03, 7.61289820e-02, 2.25659639e-01,\n",
       "        6.69192553e-01],\n",
       "       [1.48056924e-01, 1.52591558e-03, 2.86816776e-01, 5.57878196e-01,\n",
       "        5.72221121e-03],\n",
       "       [5.38122952e-02, 1.44711608e-04, 2.75126219e-01, 6.56124473e-01,\n",
       "        1.47922756e-02],\n",
       "       [1.16168782e-02, 2.05505125e-06, 3.72994691e-03, 9.84622538e-01,\n",
       "        2.85938168e-05],\n",
       "       [1.26279891e-01, 5.63516514e-03, 6.98852122e-01, 1.64587274e-01,\n",
       "        4.64557251e-03],\n",
       "       [1.28625846e-02, 1.11245017e-05, 1.89429882e-03, 9.85128582e-01,\n",
       "        1.03398525e-04],\n",
       "       [1.22153945e-01, 1.16588455e-03, 7.79868186e-01, 6.73718676e-02,\n",
       "        2.94401273e-02],\n",
       "       [1.11150192e-02, 2.48568995e-06, 3.35823651e-03, 9.85492468e-01,\n",
       "        3.17687118e-05],\n",
       "       [6.77504987e-02, 3.24219618e-05, 1.96831107e-01, 7.25751281e-01,\n",
       "        9.63465683e-03],\n",
       "       [3.59610692e-02, 5.66692761e-05, 1.95416853e-01, 7.68339872e-01,\n",
       "        2.25558353e-04],\n",
       "       [8.24112538e-03, 8.09952417e-06, 2.47954763e-03, 9.89239812e-01,\n",
       "        3.14158096e-05],\n",
       "       [2.60102898e-02, 2.36305015e-04, 1.47323668e-01, 8.14801514e-01,\n",
       "        1.16282124e-02],\n",
       "       [1.46648521e-02, 9.09379833e-06, 2.37121293e-03, 9.82940853e-01,\n",
       "        1.40100237e-05],\n",
       "       [1.93262119e-02, 1.81464799e-04, 8.73458609e-02, 8.91981721e-01,\n",
       "        1.16474880e-03],\n",
       "       [6.82767555e-02, 2.12469185e-03, 6.27581120e-01, 2.99769074e-01,\n",
       "        2.24834518e-03],\n",
       "       [4.92054460e-06, 1.20008503e-04, 2.57625303e-04, 3.62427244e-07,\n",
       "        9.99617100e-01],\n",
       "       [2.34766441e-04, 1.94485256e-05, 6.54894626e-03, 5.97676335e-05,\n",
       "        9.93137062e-01],\n",
       "       [2.88050505e-04, 2.78385050e-05, 1.34595186e-02, 1.97074522e-04,\n",
       "        9.86027539e-01],\n",
       "       [2.84579437e-05, 2.21106493e-05, 4.18249052e-04, 4.34508866e-06,\n",
       "        9.99526858e-01],\n",
       "       [3.43742158e-06, 5.48848370e-03, 3.11264186e-04, 5.19734783e-07,\n",
       "        9.94196296e-01],\n",
       "       [2.89412739e-04, 9.95069786e-05, 1.73895974e-02, 2.10697963e-05,\n",
       "        9.82200384e-01],\n",
       "       [1.40781856e-06, 8.57730920e-05, 5.41472509e-05, 1.98018299e-07,\n",
       "        9.99858499e-01],\n",
       "       [1.29924345e-04, 1.44509028e-03, 1.81565207e-04, 2.65567610e-06,\n",
       "        9.98240769e-01],\n",
       "       [3.75666718e-06, 3.66976528e-05, 8.68070638e-05, 2.21772240e-07,\n",
       "        9.99872506e-01],\n",
       "       [7.98074936e-04, 3.14848476e-05, 2.63098767e-03, 5.34243882e-05,\n",
       "        9.96486008e-01],\n",
       "       [2.33468390e-03, 8.49732943e-03, 1.61494181e-01, 1.15046452e-04,\n",
       "        8.27558756e-01],\n",
       "       [4.59984964e-04, 3.65466374e-04, 1.91581510e-02, 1.83334851e-05,\n",
       "        9.79998052e-01],\n",
       "       [4.52257882e-06, 1.02955513e-04, 7.85959710e-04, 1.83465932e-06,\n",
       "        9.99104738e-01],\n",
       "       [4.82723135e-06, 2.65459414e-04, 4.64091339e-04, 4.24712738e-07,\n",
       "        9.99265194e-01],\n",
       "       [3.94288872e-05, 8.74723133e-04, 7.55732646e-04, 1.62645429e-05,\n",
       "        9.98313844e-01],\n",
       "       [1.03063066e-05, 1.04057857e-04, 1.26570067e-03, 6.53755308e-07,\n",
       "        9.98619258e-01],\n",
       "       [2.16028434e-06, 6.63886531e-05, 5.95364618e-05, 4.15383397e-07,\n",
       "        9.99871492e-01],\n",
       "       [2.41674684e-06, 1.34923350e-04, 2.13156192e-04, 2.99082984e-07,\n",
       "        9.99649227e-01],\n",
       "       [7.90881859e-06, 1.83011335e-03, 5.40958543e-04, 1.40078982e-05,\n",
       "        9.97606993e-01],\n",
       "       [5.01249405e-03, 4.79363604e-03, 2.93327302e-01, 8.53730831e-04,\n",
       "        6.96012795e-01],\n",
       "       [2.19682770e-04, 2.20673872e-04, 1.04010163e-03, 1.13861543e-05,\n",
       "        9.98508155e-01]], dtype=float32)"
      ]
     },
     "execution_count": 31,
     "metadata": {},
     "output_type": "execute_result"
    }
   ],
   "source": [
    "model.predict(test)"
   ]
  },
  {
   "cell_type": "code",
   "execution_count": null,
   "metadata": {},
   "outputs": [],
   "source": [
    "matrix = metrics.confusion_matrix(y_test.argmax(axis=1), y_pred.argmax(axis=1))"
   ]
  }
 ],
 "metadata": {
  "kernelspec": {
   "display_name": "Python 3",
   "language": "python",
   "name": "python3"
  },
  "language_info": {
   "codemirror_mode": {
    "name": "ipython",
    "version": 3
   },
   "file_extension": ".py",
   "mimetype": "text/x-python",
   "name": "python",
   "nbconvert_exporter": "python",
   "pygments_lexer": "ipython3",
   "version": "3.6.9"
  }
 },
 "nbformat": 4,
 "nbformat_minor": 2
}
