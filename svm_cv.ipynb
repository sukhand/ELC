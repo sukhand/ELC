{
 "cells": [
  {
   "cell_type": "code",
   "execution_count": 12,
   "metadata": {},
   "outputs": [],
   "source": [
    "import io\n",
    "import os\n",
    "from PIL import Image\n",
    "import numpy as np\n",
    "import matplotlib.pyplot as plt\n",
    "from scipy import fftpack\n",
    "from scipy import ndimage\n",
    "from sklearn import svm, metrics\n",
    "import keras\n",
    "from sklearn.metrics import classification_report, confusion_matrix\n",
    "import imageio\n",
    "import matplotlib.image as mpimage\n",
    "import cv2\n",
    "import glob\n",
    "import h5py\n",
    "from sklearn.preprocessing import LabelEncoder\n",
    "from sklearn.preprocessing import MinMaxScaler\n",
    "import matplotlib.pyplot as plt\n",
    "from sklearn.model_selection import train_test_split, cross_val_score, GridSearchCV\n",
    "import datetime as dt\n",
    "from six.moves import range"
   ]
  },
  {
   "cell_type": "code",
   "execution_count": 13,
   "metadata": {},
   "outputs": [],
   "source": [
    "h5f_data=h5py.File('/home/csed/ELC_activity/output_train_svm/data.h5','r')\n",
    "h5f_label=h5py.File('/home/csed/ELC_activity/output_train_svm/labels.h5','r')\n"
   ]
  },
  {
   "cell_type": "code",
   "execution_count": 14,
   "metadata": {},
   "outputs": [],
   "source": [
    "global_features_string_train= h5f_data['dataset_1']\n",
    "global_labels_string_train=h5f_label['dataset_1']\n",
    "global_features_train=np.array(global_features_string_train)\n",
    "global_labels_train=np.array(global_labels_string_train)\n"
   ]
  },
  {
   "cell_type": "code",
   "execution_count": 15,
   "metadata": {},
   "outputs": [],
   "source": [
    "h5f_data.close()\n",
    "h5f_label.close()"
   ]
  },
  {
   "cell_type": "code",
   "execution_count": 16,
   "metadata": {},
   "outputs": [
    {
     "name": "stdout",
     "output_type": "stream",
     "text": [
      "[Status] training feature shape: (493, 1024)\n",
      "[Status] labels shape: (493,)\n"
     ]
    }
   ],
   "source": [
    "print(\"[Status] training feature shape: {}\".format(global_features_train.shape))\n",
    "\n",
    "print(\"[Status] labels shape: {}\".format(global_labels_train.shape))"
   ]
  },
  {
   "cell_type": "code",
   "execution_count": 17,
   "metadata": {},
   "outputs": [],
   "source": [
    "num_category = 5\n",
    "# convert class vectors to binary class matrices\n",
    "#y_train = keras.utils.to_categorical(global_labels_train, num_category)\n"
   ]
  },
  {
   "cell_type": "code",
   "execution_count": 23,
   "metadata": {},
   "outputs": [],
   "source": [
    "clf = svm.SVC(kernel='linear')"
   ]
  },
  {
   "cell_type": "code",
   "execution_count": 21,
   "metadata": {},
   "outputs": [],
   "source": [
    "from sklearn.model_selection import KFold"
   ]
  },
  {
   "cell_type": "code",
   "execution_count": 22,
   "metadata": {},
   "outputs": [],
   "source": [
    "cv = KFold(n_splits=10, random_state=1, shuffle=True)"
   ]
  },
  {
   "cell_type": "code",
   "execution_count": 26,
   "metadata": {},
   "outputs": [],
   "source": [
    "scores = cross_val_score(clf,global_features_train,global_labels_train , scoring='accuracy', cv=cv, n_jobs=-1)"
   ]
  },
  {
   "cell_type": "code",
   "execution_count": 28,
   "metadata": {},
   "outputs": [
    {
     "name": "stdout",
     "output_type": "stream",
     "text": [
      "Accuracy: 0.988 (0.013)\n"
     ]
    }
   ],
   "source": [
    "from numpy import mean\n",
    "from numpy import std\n",
    "print('Accuracy: %.3f (%.3f)' % (mean(scores), std(scores)))"
   ]
  },
  {
   "cell_type": "code",
   "execution_count": 30,
   "metadata": {},
   "outputs": [],
   "source": [
    "from sklearn.model_selection import cross_val_predict\n",
    "y_pred = cross_val_predict(clf, global_features_train,global_labels_train , cv=10)\n",
    "conf_mat = confusion_matrix(global_labels_train, y_pred)\n"
   ]
  },
  {
   "cell_type": "code",
   "execution_count": 31,
   "metadata": {},
   "outputs": [
    {
     "name": "stdout",
     "output_type": "stream",
     "text": [
      "Confusion matrix:\n",
      "[[100   0   0   0   0]\n",
      " [  0 100   0   0   0]\n",
      " [  1   0  99   0   0]\n",
      " [  0   0   0  93   0]\n",
      " [  2   0   0   0  98]]\n"
     ]
    }
   ],
   "source": [
    "print(\"Confusion matrix:\\n%s\" % conf_mat)\n"
   ]
  },
  {
   "cell_type": "code",
   "execution_count": 33,
   "metadata": {},
   "outputs": [
    {
     "name": "stdout",
     "output_type": "stream",
     "text": [
      "Accuracy: 0.988 (0.004)\n",
      "Confusion matrix:\n",
      "[[100   0   0   0   0]\n",
      " [  0 100   0   0   0]\n",
      " [  1   0  99   0   0]\n",
      " [  0   0   0  93   0]\n",
      " [  2   0   0   0  98]]\n"
     ]
    }
   ],
   "source": [
    "cv = KFold(n_splits=2, random_state=1, shuffle=True)\n",
    "scores = cross_val_score(clf,global_features_train,global_labels_train , scoring='accuracy', cv=cv, n_jobs=-1)\n",
    "print('Accuracy: %.3f (%.3f)' % (mean(scores), std(scores)))\n",
    "y_pred = cross_val_predict(clf, global_features_train,global_labels_train , cv=10)\n",
    "conf_mat = confusion_matrix(global_labels_train, y_pred)\n",
    "print(\"Confusion matrix:\\n%s\" % conf_mat)\n"
   ]
  },
  {
   "cell_type": "code",
   "execution_count": 34,
   "metadata": {},
   "outputs": [
    {
     "name": "stdout",
     "output_type": "stream",
     "text": [
      "[0.99190283 0.98373984]\n"
     ]
    }
   ],
   "source": [
    "print(scores)"
   ]
  },
  {
   "cell_type": "code",
   "execution_count": 35,
   "metadata": {},
   "outputs": [
    {
     "name": "stdout",
     "output_type": "stream",
     "text": [
      "Accuracy: 0.992 (0.008)\n",
      "Confusion matrix:\n",
      "[[100   0   0   0   0]\n",
      " [  0 100   0   0   0]\n",
      " [  1   0  99   0   0]\n",
      " [  0   0   0  93   0]\n",
      " [  2   0   0   0  98]]\n"
     ]
    }
   ],
   "source": [
    "cv = KFold(n_splits=3, random_state=1, shuffle=True)\n",
    "scores = cross_val_score(clf,global_features_train,global_labels_train , scoring='accuracy', cv=cv, n_jobs=-1)\n",
    "print('Accuracy: %.3f (%.3f)' % (mean(scores), std(scores)))\n",
    "y_pred = cross_val_predict(clf, global_features_train,global_labels_train , cv=10)\n",
    "conf_mat = confusion_matrix(global_labels_train, y_pred)\n",
    "print(\"Confusion matrix:\\n%s\" % conf_mat)\n"
   ]
  },
  {
   "cell_type": "code",
   "execution_count": 36,
   "metadata": {},
   "outputs": [
    {
     "name": "stdout",
     "output_type": "stream",
     "text": [
      "[1.         0.98170732 0.99390244]\n"
     ]
    }
   ],
   "source": [
    "print(scores)"
   ]
  },
  {
   "cell_type": "code",
   "execution_count": 37,
   "metadata": {},
   "outputs": [
    {
     "name": "stdout",
     "output_type": "stream",
     "text": [
      "Accuracy: 0.992 (0.006)\n",
      "Confusion matrix:\n",
      "[[100   0   0   0   0]\n",
      " [  0 100   0   0   0]\n",
      " [  1   0  99   0   0]\n",
      " [  0   0   0  93   0]\n",
      " [  2   0   0   0  98]]\n"
     ]
    }
   ],
   "source": [
    "cv = KFold(n_splits=4, random_state=1, shuffle=True)\n",
    "scores = cross_val_score(clf,global_features_train,global_labels_train , scoring='accuracy', cv=cv, n_jobs=-1)\n",
    "print('Accuracy: %.3f (%.3f)' % (mean(scores), std(scores)))\n",
    "y_pred = cross_val_predict(clf, global_features_train,global_labels_train , cv=10)\n",
    "conf_mat = confusion_matrix(global_labels_train, y_pred)\n",
    "print(\"Confusion matrix:\\n%s\" % conf_mat)\n"
   ]
  },
  {
   "cell_type": "code",
   "execution_count": 38,
   "metadata": {},
   "outputs": [
    {
     "name": "stdout",
     "output_type": "stream",
     "text": [
      "[1.         0.98373984 0.99186992 0.99186992]\n"
     ]
    }
   ],
   "source": [
    "print(scores)"
   ]
  },
  {
   "cell_type": "code",
   "execution_count": 39,
   "metadata": {},
   "outputs": [
    {
     "name": "stdout",
     "output_type": "stream",
     "text": [
      "Accuracy: 0.994 (0.005)\n",
      "Confusion matrix:\n",
      "[[100   0   0   0   0]\n",
      " [  0 100   0   0   0]\n",
      " [  1   0  99   0   0]\n",
      " [  0   0   0  93   0]\n",
      " [  2   0   0   0  98]]\n"
     ]
    }
   ],
   "source": [
    "cv = KFold(n_splits=5, random_state=1, shuffle=True)\n",
    "scores = cross_val_score(clf,global_features_train,global_labels_train , scoring='accuracy', cv=cv, n_jobs=-1)\n",
    "print('Accuracy: %.3f (%.3f)' % (mean(scores), std(scores)))\n",
    "y_pred = cross_val_predict(clf, global_features_train,global_labels_train , cv=10)\n",
    "conf_mat = confusion_matrix(global_labels_train, y_pred)\n",
    "print(\"Confusion matrix:\\n%s\" % conf_mat)\n"
   ]
  },
  {
   "cell_type": "code",
   "execution_count": 40,
   "metadata": {},
   "outputs": [
    {
     "name": "stdout",
     "output_type": "stream",
     "text": [
      "[1.         0.98989899 0.98989899 1.         0.98979592]\n"
     ]
    }
   ],
   "source": [
    "print(scores)"
   ]
  },
  {
   "cell_type": "code",
   "execution_count": null,
   "metadata": {},
   "outputs": [],
   "source": []
  }
 ],
 "metadata": {
  "kernelspec": {
   "display_name": "Python 3",
   "language": "python",
   "name": "python3"
  },
  "language_info": {
   "codemirror_mode": {
    "name": "ipython",
    "version": 3
   },
   "file_extension": ".py",
   "mimetype": "text/x-python",
   "name": "python",
   "nbconvert_exporter": "python",
   "pygments_lexer": "ipython3",
   "version": "3.6.9"
  }
 },
 "nbformat": 4,
 "nbformat_minor": 2
}
